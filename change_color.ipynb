{
 "cells": [
  {
   "cell_type": "markdown",
   "metadata": {},
   "source": [
    "#Python Flask"
   ]
  },
  {
   "cell_type": "code",
   "execution_count": null,
   "metadata": {},
   "outputs": [],
   "source": [
    "from flask import Flask, render_template\n",
    "import pymysql\n",
    "\n",
    "app = Flask(__name__)\n",
    "\n",
    "# Establish database connection\n",
    "db = pymysql.connect(host='localhost', user='your_username', password='your_password', database='your_database')\n",
    "\n",
    "@app.route('/')\n",
    "def index():\n",
    "    # Retrieve data from the database for the specific timeframe\n",
    "    cursor = db.cursor()\n",
    "    cursor.execute(\"SELECT table_number FROM your_table WHERE time >= 'start_time' AND time <= 'end_time'\")\n",
    "    result = cursor.fetchall()\n",
    "    table_numbers = [row[0] for row in result]\n",
    "\n",
    "    # Check if the table number/class is present in the database\n",
    "    table_number = 'your_table_number'  # Replace with the actual table number/class\n",
    "    if table_number in table_numbers:\n",
    "        image_color = 'red'  # Table number/class is present\n",
    "    else:\n",
    "        image_color = 'green'  # Table number/class is not present\n",
    "\n",
    "    return render_template('index.html', image_color=image_color)\n",
    "\n",
    "if __name__ == '__main__':\n",
    "    app.run()\n"
   ]
  },
  {
   "cell_type": "markdown",
   "metadata": {},
   "source": [
    "#HTML/CSS"
   ]
  },
  {
   "cell_type": "code",
   "execution_count": null,
   "metadata": {},
   "outputs": [],
   "source": [
    "<!DOCTYPE html>\n",
    "<html>\n",
    "<head>\n",
    "    <style>\n",
    "        .colored-image {\n",
    "            filter: hue-rotate(0deg);  /* Default green color */\n",
    "        }\n",
    "        .colored-image.red {\n",
    "            filter: hue-rotate(180deg);  /* Red color */\n",
    "        }\n",
    "    </style>\n",
    "</head>\n",
    "<body>\n",
    "    <img src=\"your_image.jpg\" alt=\"Your Image\" class=\"colored-image {{ image_color }}\">\n",
    "</body>\n",
    "</html>\n"
   ]
  }
 ],
 "metadata": {
  "language_info": {
   "name": "python"
  },
  "orig_nbformat": 4
 },
 "nbformat": 4,
 "nbformat_minor": 2
}
